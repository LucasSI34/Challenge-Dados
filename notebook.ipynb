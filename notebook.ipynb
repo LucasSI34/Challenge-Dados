{
 "cells": [
  {
   "cell_type": "markdown",
   "id": "bbc6fc1e",
   "metadata": {},
   "source": [
    "# EM CONSTRUÇÃO"
   ]
  },
  {
   "cell_type": "markdown",
   "id": "c4e761d0",
   "metadata": {},
   "source": [
    "# CHALLENGE DADOS"
   ]
  },
  {
   "cell_type": "markdown",
   "id": "0f5db34a",
   "metadata": {},
   "source": [
    "Neste challenger o desafio com esses dados, tentar modelar um classificador capaz de encontrar potenciais clientes inadimplentes e solucionar o problema do Alura Cash."
   ]
  },
  {
   "cell_type": "markdown",
   "id": "92eb3ef8",
   "metadata": {},
   "source": [
    "### OS DADOS"
   ]
  },
  {
   "cell_type": "markdown",
   "id": "764640f1",
   "metadata": {},
   "source": [
    "Foi disponibilizado um arquivo DUMP que fiz os tratamentos necessários, unir as tabelas e exportei como um .csv"
   ]
  },
  {
   "cell_type": "markdown",
   "id": "430b9686",
   "metadata": {},
   "source": [
    "DICIONÁRIO DE DADOS:\n",
    "\n",
    "* **pessoa idade:** Idade da pessoa em anos que solicia empréstimo.   \n",
    "* **salario_ano:** Salário anual da pessoa solicitante.\n",
    "* **propriedade_sit:** Situação da propriedade que a pessoa possui: Alugada, Própria, Hipotecada e Outros.\n",
    "* **ano_trabalhado:** Tempo em anos que a pessoa trabalhou\n",
    "* **motivo_emprestimo:** Motivo do empréstimo: Pagamento de debitos, Pessoal, Educativo, Medico, Empreendimento, Melhora do lar\n",
    "* **pontuacao_emprestimos:** Pontuação de empréstimos, por nível variando de A a G\n",
    "* **vl_total:** Valor total do empréstimo solicitado\n",
    "* **tx_juros:** Taxa de juros\n",
    "* **inadimplencia:** Possibilidade de inadimplência\n",
    "* **tx_renda_divida:** Renda percentual entre o valor total do empréstimo e o salário anual\n",
    "* **hst_inadimplencia:** Indica se a pessoa já foi inadimplente 1 SIM, 0 NÃO\n",
    "* **hst_primeiro_credito:** Tempo - em anos - desde a primeira solicitação de crédito ou aquisição de um cartão de crédito"
   ]
  },
  {
   "cell_type": "markdown",
   "id": "c696ba98",
   "metadata": {},
   "source": [
    "## IMPORTAÇÕES DE BIBLIOTECAS"
   ]
  },
  {
   "cell_type": "code",
   "execution_count": 6,
   "id": "e4ebdf56",
   "metadata": {},
   "outputs": [],
   "source": [
    "import pandas as pd\n",
    "import matplotlib.pyplot as plt\n",
    "import seaborn as sns"
   ]
  },
  {
   "cell_type": "markdown",
   "id": "a8a59ac1",
   "metadata": {},
   "source": [
    "## IMPORTAÇÃO DO DATASET"
   ]
  },
  {
   "cell_type": "code",
   "execution_count": 7,
   "id": "993ff1bc",
   "metadata": {},
   "outputs": [
    {
     "data": {
      "text/html": [
       "<div>\n",
       "<style scoped>\n",
       "    .dataframe tbody tr th:only-of-type {\n",
       "        vertical-align: middle;\n",
       "    }\n",
       "\n",
       "    .dataframe tbody tr th {\n",
       "        vertical-align: top;\n",
       "    }\n",
       "\n",
       "    .dataframe thead th {\n",
       "        text-align: right;\n",
       "    }\n",
       "</style>\n",
       "<table border=\"1\" class=\"dataframe\">\n",
       "  <thead>\n",
       "    <tr style=\"text-align: right;\">\n",
       "      <th></th>\n",
       "      <th>pessoa_idade</th>\n",
       "      <th>salario_ano</th>\n",
       "      <th>propriedade_sit</th>\n",
       "      <th>ano_trabalhado</th>\n",
       "      <th>motivo_emprestimo</th>\n",
       "      <th>pontuacao_emprestimos</th>\n",
       "      <th>vl_total</th>\n",
       "      <th>tx_juros</th>\n",
       "      <th>inadimplencia</th>\n",
       "      <th>tx_renda_divida</th>\n",
       "      <th>hst_inadimplencia</th>\n",
       "      <th>hst_primeiro_credito</th>\n",
       "    </tr>\n",
       "  </thead>\n",
       "  <tbody>\n",
       "    <tr>\n",
       "      <th>0</th>\n",
       "      <td>23</td>\n",
       "      <td>108000</td>\n",
       "      <td>Hipotecada</td>\n",
       "      <td>5</td>\n",
       "      <td>Pagamento de debitos</td>\n",
       "      <td>D</td>\n",
       "      <td>10000</td>\n",
       "      <td>0.00</td>\n",
       "      <td>1.0</td>\n",
       "      <td>0.09</td>\n",
       "      <td>1.0</td>\n",
       "      <td>2</td>\n",
       "    </tr>\n",
       "    <tr>\n",
       "      <th>1</th>\n",
       "      <td>31</td>\n",
       "      <td>35000</td>\n",
       "      <td>Hipotecada</td>\n",
       "      <td>2</td>\n",
       "      <td>Pagamento de debitos</td>\n",
       "      <td>B</td>\n",
       "      <td>10225</td>\n",
       "      <td>9.99</td>\n",
       "      <td>0.0</td>\n",
       "      <td>0.29</td>\n",
       "      <td>0.0</td>\n",
       "      <td>6</td>\n",
       "    </tr>\n",
       "    <tr>\n",
       "      <th>2</th>\n",
       "      <td>22</td>\n",
       "      <td>14400</td>\n",
       "      <td>Propria</td>\n",
       "      <td>0</td>\n",
       "      <td>Pessoal</td>\n",
       "      <td>B</td>\n",
       "      <td>2100</td>\n",
       "      <td>11.14</td>\n",
       "      <td>0.0</td>\n",
       "      <td>0.15</td>\n",
       "      <td>0.0</td>\n",
       "      <td>4</td>\n",
       "    </tr>\n",
       "    <tr>\n",
       "      <th>3</th>\n",
       "      <td>21</td>\n",
       "      <td>47580</td>\n",
       "      <td>Hipotecada</td>\n",
       "      <td>5</td>\n",
       "      <td>Educativo</td>\n",
       "      <td>A</td>\n",
       "      <td>14000</td>\n",
       "      <td>6.03</td>\n",
       "      <td>0.0</td>\n",
       "      <td>0.29</td>\n",
       "      <td>0.0</td>\n",
       "      <td>2</td>\n",
       "    </tr>\n",
       "    <tr>\n",
       "      <th>4</th>\n",
       "      <td>33</td>\n",
       "      <td>115000</td>\n",
       "      <td>Hipotecada</td>\n",
       "      <td>10</td>\n",
       "      <td>Medico</td>\n",
       "      <td>B</td>\n",
       "      <td>25000</td>\n",
       "      <td>11.86</td>\n",
       "      <td>0.0</td>\n",
       "      <td>0.22</td>\n",
       "      <td>0.0</td>\n",
       "      <td>8</td>\n",
       "    </tr>\n",
       "  </tbody>\n",
       "</table>\n",
       "</div>"
      ],
      "text/plain": [
       "   pessoa_idade  salario_ano propriedade_sit  ano_trabalhado  \\\n",
       "0            23       108000      Hipotecada               5   \n",
       "1            31        35000      Hipotecada               2   \n",
       "2            22        14400         Propria               0   \n",
       "3            21        47580      Hipotecada               5   \n",
       "4            33       115000      Hipotecada              10   \n",
       "\n",
       "      motivo_emprestimo pontuacao_emprestimos  vl_total  tx_juros  \\\n",
       "0  Pagamento de debitos                     D     10000      0.00   \n",
       "1  Pagamento de debitos                     B     10225      9.99   \n",
       "2               Pessoal                     B      2100     11.14   \n",
       "3             Educativo                     A     14000      6.03   \n",
       "4                Medico                     B     25000     11.86   \n",
       "\n",
       "   inadimplencia  tx_renda_divida  hst_inadimplencia  hst_primeiro_credito  \n",
       "0            1.0             0.09                1.0                     2  \n",
       "1            0.0             0.29                0.0                     6  \n",
       "2            0.0             0.15                0.0                     4  \n",
       "3            0.0             0.29                0.0                     2  \n",
       "4            0.0             0.22                0.0                     8  "
      ]
     },
     "execution_count": 7,
     "metadata": {},
     "output_type": "execute_result"
    }
   ],
   "source": [
    "dados = pd.read_csv('dados_juntos.csv', sep=';')\n",
    "dados.head()"
   ]
  },
  {
   "cell_type": "code",
   "execution_count": 9,
   "id": "6780de0f",
   "metadata": {},
   "outputs": [
    {
     "name": "stdout",
     "output_type": "stream",
     "text": [
      "O dataset tem 34485 Linhas e 12 Colunas\n"
     ]
    }
   ],
   "source": [
    "print(f'O dataset tem {dados.shape[0]} Linhas e {dados.shape[1]} Colunas')"
   ]
  },
  {
   "cell_type": "code",
   "execution_count": null,
   "id": "4bc5f27c",
   "metadata": {},
   "outputs": [],
   "source": []
  }
 ],
 "metadata": {
  "kernelspec": {
   "display_name": "Python 3",
   "language": "python",
   "name": "python3"
  },
  "language_info": {
   "codemirror_mode": {
    "name": "ipython",
    "version": 3
   },
   "file_extension": ".py",
   "mimetype": "text/x-python",
   "name": "python",
   "nbconvert_exporter": "python",
   "pygments_lexer": "ipython3",
   "version": "3.8.8"
  }
 },
 "nbformat": 4,
 "nbformat_minor": 5
}
